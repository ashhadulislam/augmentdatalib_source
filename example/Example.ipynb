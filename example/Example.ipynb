{
 "cells": [
  {
   "cell_type": "code",
   "execution_count": 6,
   "metadata": {},
   "outputs": [],
   "source": [
    "from sklearn.datasets import load_breast_cancer\n",
    "import numpy as np\n",
    "import collections\n"
   ]
  },
  {
   "cell_type": "code",
   "execution_count": 7,
   "metadata": {},
   "outputs": [],
   "source": [
    "# ! pip install knnor==0.0.3"
   ]
  },
  {
   "cell_type": "code",
   "execution_count": 8,
   "metadata": {},
   "outputs": [],
   "source": [
    "from knnor import data_augment"
   ]
  },
  {
   "cell_type": "code",
   "execution_count": 9,
   "metadata": {},
   "outputs": [
    {
     "name": "stdout",
     "output_type": "stream",
     "text": [
      "Unique values of the target variable [0 1]\n",
      "Counts of the target variable : [212 357]\n"
     ]
    }
   ],
   "source": [
    "dataset = load_breast_cancer()\n",
    "\n",
    "(unique, counts) = np.unique(dataset['target'], return_counts=True)\n",
    "\n",
    "print('Unique values of the target variable', unique)\n",
    "print('Counts of the target variable :', counts)"
   ]
  },
  {
   "cell_type": "code",
   "execution_count": 10,
   "metadata": {},
   "outputs": [
    {
     "name": "stdout",
     "output_type": "stream",
     "text": [
      "Original shape= (569, 30) (569,)\n",
      "Original distribution:\n",
      "0: 212\n",
      "1: 357\n"
     ]
    }
   ],
   "source": [
    "X=dataset[\"data\"]\n",
    "y=dataset[\"target\"]\n",
    "\n",
    "print(\"Original shape=\",X.shape,y.shape)\n",
    "elements_count = collections.Counter(y)\n",
    "# printing the element and the frequency\n",
    "print(\"Original distribution:\")\n",
    "for key, value in elements_count.items():\n",
    "    print(f\"{key}: {value}\")"
   ]
  },
  {
   "cell_type": "markdown",
   "metadata": {},
   "source": [
    "### Augmentation without any parameters\n",
    "\n",
    "The algorithm calculates the parameters depending on the data\n",
    "\n",
    "Final result will give an equal number of minority and majority data points"
   ]
  },
  {
   "cell_type": "code",
   "execution_count": 11,
   "metadata": {},
   "outputs": [
    {
     "name": "stdout",
     "output_type": "stream",
     "text": [
      "357 212 (569,)\n",
      "357 212 (569,)\n",
      "Shape after augmentation (714, 30) (714,)\n",
      "Final distribution:\n",
      "0: 357\n",
      "1: 357\n"
     ]
    }
   ],
   "source": [
    "knnor=data_augment.KNNOR()\n",
    "X_new,y_new,_,_=knnor.fit_resample(X,y)\n",
    "print(\"Shape after augmentation\",X_new.shape,y_new.shape)\n",
    "elements_count = collections.Counter(y_new)\n",
    "# printing the element and the frequency\n",
    "print(\"Final distribution:\")\n",
    "for key, value in elements_count.items():\n",
    "    print(f\"{key}: {value}\")\n"
   ]
  },
  {
   "cell_type": "markdown",
   "metadata": {},
   "source": [
    "### Augmentation with user defined parameters\n"
   ]
  },
  {
   "cell_type": "code",
   "execution_count": 12,
   "metadata": {},
   "outputs": [
    {
     "name": "stdout",
     "output_type": "stream",
     "text": [
      "357 212 (569,)\n",
      "Shape after augmentation (1071, 30) (1071,)\n",
      "Final distribution:\n",
      "0: 714\n",
      "1: 357\n"
     ]
    }
   ],
   "source": [
    "X_new,y_new,_,_=knnor.fit_resample(X,y,\n",
    "                              num_neighbors=10, # the number of neighbors that will be used for generation of each artificial point\n",
    "                              max_dist_point=0.01, # the maximum distance at which the new point will be placed\n",
    "                              proportion_minority=0.3, # proportion of the minority population that will be used to generate the artificial point\n",
    "                              final_proportion=2 # final number of minority datapoints\n",
    "                               # example, if num majority =15 and num minority =5, \n",
    "#                                putting final_proportion as 1 will add 10 artificial minority points\n",
    "                              )\n",
    "print(\"Shape after augmentation\",X_new.shape,y_new.shape)\n",
    "elements_count = collections.Counter(y_new)\n",
    "# printing the element and the frequency\n",
    "print(\"Final distribution:\")\n",
    "for key, value in elements_count.items():\n",
    "    print(f\"{key}: {value}\")\n"
   ]
  },
  {
   "cell_type": "code",
   "execution_count": null,
   "metadata": {},
   "outputs": [],
   "source": []
  }
 ],
 "metadata": {
  "kernelspec": {
   "display_name": "Python 3",
   "language": "python",
   "name": "python3"
  },
  "language_info": {
   "codemirror_mode": {
    "name": "ipython",
    "version": 3
   },
   "file_extension": ".py",
   "mimetype": "text/x-python",
   "name": "python",
   "nbconvert_exporter": "python",
   "pygments_lexer": "ipython3",
   "version": "3.6.5"
  }
 },
 "nbformat": 4,
 "nbformat_minor": 2
}
